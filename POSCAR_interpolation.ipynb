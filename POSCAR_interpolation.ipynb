{
 "cells": [
  {
   "cell_type": "code",
   "execution_count": 2,
   "id": "049ef503",
   "metadata": {},
   "outputs": [],
   "source": [
    "#! /usr/bin/env python\n",
    "# 03/07/2022 Zheting\n",
    "from pymatgen.core import Lattice, Structure"
   ]
  },
  {
   "cell_type": "code",
   "execution_count": 3,
   "id": "03174962",
   "metadata": {},
   "outputs": [],
   "source": [
    "# Read a POSCAR and write to a CIF.\n",
    "structure = Structure.from_file(\"testdata/POSCAR\")\n",
    "# structure.to(filename=\"CsCl.cif\")\n",
    "\n",
    "# Read an xyz file and write to a Gaussian Input file. \n",
    "# methane = Molecule.from_file(\"methane.xyz\")\n",
    "# methane.to(filename=\"methane.gjf\")\n",
    "structure2 = Structure.from_file(\"testdata/POSCAR_2\")"
   ]
  },
  {
   "cell_type": "code",
   "execution_count": 11,
   "id": "72d5f4e1",
   "metadata": {},
   "outputs": [
    {
     "name": "stdout",
     "output_type": "stream",
     "text": [
      "11\n"
     ]
    }
   ],
   "source": [
    "# interpolate structure to a list\n",
    "struclist = structure.interpolate(structure2)\n",
    "print(len(struclist))"
   ]
  },
  {
   "cell_type": "code",
   "execution_count": 18,
   "id": "b56fc70a",
   "metadata": {},
   "outputs": [
    {
     "name": "stdout",
     "output_type": "stream",
     "text": [
      "writing structure No. 0 to testdata/interpolation/0/POSCAR\n",
      "writing structure No. 1 to testdata/interpolation/1/POSCAR\n",
      "writing structure No. 2 to testdata/interpolation/2/POSCAR\n",
      "writing structure No. 3 to testdata/interpolation/3/POSCAR\n",
      "writing structure No. 4 to testdata/interpolation/4/POSCAR\n",
      "writing structure No. 5 to testdata/interpolation/5/POSCAR\n",
      "writing structure No. 6 to testdata/interpolation/6/POSCAR\n",
      "writing structure No. 7 to testdata/interpolation/7/POSCAR\n",
      "writing structure No. 8 to testdata/interpolation/8/POSCAR\n",
      "writing structure No. 9 to testdata/interpolation/9/POSCAR\n",
      "writing structure No. 10 to testdata/interpolation/10/POSCAR\n"
     ]
    }
   ],
   "source": [
    "# write structures\n",
    "for i in range(len(struclist)):\n",
    "    iname = \"testdata/interpolation/\" + str(i) + \"/POSCAR\"\n",
    "    print(\"writing structure No.\", i, \"to\", iname)\n",
    "    struclist[i].to(filename = iname)"
   ]
  }
 ],
 "metadata": {
  "kernelspec": {
   "display_name": "py3.7",
   "language": "python",
   "name": "py3.7"
  },
  "language_info": {
   "codemirror_mode": {
    "name": "ipython",
    "version": 3
   },
   "file_extension": ".py",
   "mimetype": "text/x-python",
   "name": "python",
   "nbconvert_exporter": "python",
   "pygments_lexer": "ipython3",
   "version": "3.7.11"
  }
 },
 "nbformat": 4,
 "nbformat_minor": 5
}
