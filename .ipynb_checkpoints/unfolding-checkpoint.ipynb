{
 "cells": [
  {
   "cell_type": "code",
   "execution_count": null,
   "id": "fe0fff84",
   "metadata": {},
   "outputs": [],
   "source": [
    "import math\n",
    "from unfold import make_kpath, removeDuplicateKpoints, find_K_from_k\n",
    "\n",
    "# Create the supercell from the primitive cell\n",
    "# The tranformation matrix between supercell and primitive cell.\n",
    "s2 = 1/math.sqrt(2)\n",
    "M = [[s2, s2, 0.0],\n",
    "    [-s2, s2, 0.0],\n",
    "    [0.0, 0.0, 1.0]]\n",
    "\n",
    "# Generate band path in the primitive Brillouin Zone (PBZ) and find the correspondig K points of the supercell BZ (SBZ) onto which they fold.\n",
    "# high-symmetry point in fractional coordinate\n",
    "kpts = [[0.0, 0.0, 0.0],            # G\n",
    "        [0.25, 0.25, 0.0],          # Mp\n",
    "        [0.5, 0.5, 0.0],            # X\n",
    "        [0.5, 0.0, 0.0],            # M\n",
    "        [0.0, 0.0, 0.0]]            # G\n",
    "# create band path from the high-symmetry points, 30 points inbetween each pair\n",
    "# high-symmetry points\n",
    "kpath = make_kpath(kpts, nseg=10)\n",
    "K_in_sup = []\n",
    "for kk in kpath:\n",
    "    kg, g = find_K_from_k(kk, M)\n",
    "    K_in_sup.append(kg)\n",
    "# remove the duplicate K-points\n",
    "reducedK, kid = removeDuplicateKpoints(K_in_sup, return_map=True)\n",
    "\n",
    "# save to VASP KPOINTS\n",
    "save2VaspKPOINTS(reducedK)\n",
    "\n"
   ]
  },
  {
   "cell_type": "code",
   "execution_count": 3,
   "id": "e431dfcf",
   "metadata": {},
   "outputs": [
    {
     "data": {
      "text/plain": [
       "1.4142135623730951"
      ]
     },
     "execution_count": 3,
     "metadata": {},
     "output_type": "execute_result"
    }
   ],
   "source": [
    "import math\n",
    "math.sqrt(2)"
   ]
  }
 ],
 "metadata": {
  "kernelspec": {
   "display_name": "py3",
   "language": "python",
   "name": "py3"
  },
  "language_info": {
   "codemirror_mode": {
    "name": "ipython",
    "version": 3
   },
   "file_extension": ".py",
   "mimetype": "text/x-python",
   "name": "python",
   "nbconvert_exporter": "python",
   "pygments_lexer": "ipython3",
   "version": "3.7.12"
  }
 },
 "nbformat": 4,
 "nbformat_minor": 5
}
